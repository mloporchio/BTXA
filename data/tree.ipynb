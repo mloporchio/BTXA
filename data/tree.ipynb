{
 "cells": [
  {
   "cell_type": "code",
   "execution_count": 2,
   "id": "245ec4fa",
   "metadata": {},
   "outputs": [],
   "source": [
    "import pandas as pd\n",
    "import numpy as np\n",
    "import matplotlib.pyplot as plt"
   ]
  },
  {
   "cell_type": "markdown",
   "id": "fc8058b4",
   "metadata": {},
   "source": []
  },
  {
   "cell_type": "code",
   "execution_count": 8,
   "id": "a8e8768b",
   "metadata": {},
   "outputs": [
    {
     "data": {
      "text/html": [
       "<div>\n",
       "<style scoped>\n",
       "    .dataframe tbody tr th:only-of-type {\n",
       "        vertical-align: middle;\n",
       "    }\n",
       "\n",
       "    .dataframe tbody tr th {\n",
       "        vertical-align: top;\n",
       "    }\n",
       "\n",
       "    .dataframe thead th {\n",
       "        text-align: right;\n",
       "    }\n",
       "</style>\n",
       "<table border=\"1\" class=\"dataframe\">\n",
       "  <thead>\n",
       "    <tr style=\"text-align: right;\">\n",
       "      <th></th>\n",
       "      <th>blockId</th>\n",
       "      <th>queryTime</th>\n",
       "      <th>blockCount</th>\n",
       "      <th>resultCount</th>\n",
       "    </tr>\n",
       "  </thead>\n",
       "  <tbody>\n",
       "    <tr>\n",
       "      <th>0</th>\n",
       "      <td>1</td>\n",
       "      <td>101320</td>\n",
       "      <td>1</td>\n",
       "      <td>0</td>\n",
       "    </tr>\n",
       "    <tr>\n",
       "      <th>1</th>\n",
       "      <td>2</td>\n",
       "      <td>1818</td>\n",
       "      <td>1</td>\n",
       "      <td>0</td>\n",
       "    </tr>\n",
       "    <tr>\n",
       "      <th>2</th>\n",
       "      <td>3</td>\n",
       "      <td>1451</td>\n",
       "      <td>1</td>\n",
       "      <td>0</td>\n",
       "    </tr>\n",
       "    <tr>\n",
       "      <th>3</th>\n",
       "      <td>4</td>\n",
       "      <td>1377</td>\n",
       "      <td>1</td>\n",
       "      <td>0</td>\n",
       "    </tr>\n",
       "    <tr>\n",
       "      <th>4</th>\n",
       "      <td>5</td>\n",
       "      <td>1402</td>\n",
       "      <td>1</td>\n",
       "      <td>0</td>\n",
       "    </tr>\n",
       "  </tbody>\n",
       "</table>\n",
       "</div>"
      ],
      "text/plain": [
       "   blockId  queryTime  blockCount  resultCount\n",
       "0        1     101320           1            0\n",
       "1        2       1818           1            0\n",
       "2        3       1451           1            0\n",
       "3        4       1377           1            0\n",
       "4        5       1402           1            0"
      ]
     },
     "execution_count": 8,
     "metadata": {},
     "output_type": "execute_result"
    }
   ],
   "source": [
    "seq = pd.read_csv('tree/stats_1-545_seq.csv')\n",
    "seq.head()"
   ]
  },
  {
   "cell_type": "markdown",
   "id": "079a7659",
   "metadata": {},
   "source": [
    "We compute the average query time (in milliseconds) over the 479969 total blocks."
   ]
  },
  {
   "cell_type": "code",
   "execution_count": 16,
   "id": "b3d3e9a3",
   "metadata": {},
   "outputs": [
    {
     "name": "stdout",
     "output_type": "stream",
     "text": [
      "Avg. sequential query time: 0.051713736268384 ms\n"
     ]
    }
   ],
   "source": [
    "print('Avg. sequential query time: {} ms'.format(seq.queryTime.mean() / 1e6))"
   ]
  },
  {
   "cell_type": "code",
   "execution_count": 16,
   "id": "2b90ae31",
   "metadata": {},
   "outputs": [
    {
     "data": {
      "text/html": [
       "<div>\n",
       "<style scoped>\n",
       "    .dataframe tbody tr th:only-of-type {\n",
       "        vertical-align: middle;\n",
       "    }\n",
       "\n",
       "    .dataframe tbody tr th {\n",
       "        vertical-align: top;\n",
       "    }\n",
       "\n",
       "    .dataframe thead th {\n",
       "        text-align: right;\n",
       "    }\n",
       "</style>\n",
       "<table border=\"1\" class=\"dataframe\">\n",
       "  <thead>\n",
       "    <tr style=\"text-align: right;\">\n",
       "      <th></th>\n",
       "      <th>capacity</th>\n",
       "      <th>avgConstructionTime</th>\n",
       "      <th>avgQueryTime</th>\n",
       "      <th>avgVerificationTime</th>\n",
       "      <th>avgVOSize</th>\n",
       "      <th>avgResultSize</th>\n",
       "    </tr>\n",
       "  </thead>\n",
       "  <tbody>\n",
       "    <tr>\n",
       "      <th>0</th>\n",
       "      <td>4</td>\n",
       "      <td>1.467</td>\n",
       "      <td>0.001</td>\n",
       "      <td>0.017</td>\n",
       "      <td>14.930</td>\n",
       "      <td>9.169</td>\n",
       "    </tr>\n",
       "    <tr>\n",
       "      <th>1</th>\n",
       "      <td>8</td>\n",
       "      <td>1.173</td>\n",
       "      <td>0.001</td>\n",
       "      <td>0.025</td>\n",
       "      <td>32.681</td>\n",
       "      <td>9.169</td>\n",
       "    </tr>\n",
       "    <tr>\n",
       "      <th>2</th>\n",
       "      <td>16</td>\n",
       "      <td>1.034</td>\n",
       "      <td>0.001</td>\n",
       "      <td>0.059</td>\n",
       "      <td>103.342</td>\n",
       "      <td>9.169</td>\n",
       "    </tr>\n",
       "    <tr>\n",
       "      <th>3</th>\n",
       "      <td>32</td>\n",
       "      <td>0.980</td>\n",
       "      <td>0.002</td>\n",
       "      <td>0.177</td>\n",
       "      <td>346.627</td>\n",
       "      <td>9.169</td>\n",
       "    </tr>\n",
       "    <tr>\n",
       "      <th>4</th>\n",
       "      <td>64</td>\n",
       "      <td>0.961</td>\n",
       "      <td>0.006</td>\n",
       "      <td>0.456</td>\n",
       "      <td>929.111</td>\n",
       "      <td>9.169</td>\n",
       "    </tr>\n",
       "    <tr>\n",
       "      <th>5</th>\n",
       "      <td>128</td>\n",
       "      <td>0.948</td>\n",
       "      <td>0.007</td>\n",
       "      <td>0.552</td>\n",
       "      <td>1148.751</td>\n",
       "      <td>9.169</td>\n",
       "    </tr>\n",
       "    <tr>\n",
       "      <th>6</th>\n",
       "      <td>256</td>\n",
       "      <td>0.942</td>\n",
       "      <td>0.007</td>\n",
       "      <td>0.553</td>\n",
       "      <td>1161.746</td>\n",
       "      <td>9.169</td>\n",
       "    </tr>\n",
       "  </tbody>\n",
       "</table>\n",
       "</div>"
      ],
      "text/plain": [
       "   capacity  avgConstructionTime  avgQueryTime  avgVerificationTime  \\\n",
       "0         4                1.467         0.001                0.017   \n",
       "1         8                1.173         0.001                0.025   \n",
       "2        16                1.034         0.001                0.059   \n",
       "3        32                0.980         0.002                0.177   \n",
       "4        64                0.961         0.006                0.456   \n",
       "5       128                0.948         0.007                0.552   \n",
       "6       256                0.942         0.007                0.553   \n",
       "\n",
       "   avgVOSize  avgResultSize  \n",
       "0     14.930          9.169  \n",
       "1     32.681          9.169  \n",
       "2    103.342          9.169  \n",
       "3    346.627          9.169  \n",
       "4    929.111          9.169  \n",
       "5   1148.751          9.169  \n",
       "6   1161.746          9.169  "
      ]
     },
     "execution_count": 16,
     "metadata": {},
     "output_type": "execute_result"
    }
   ],
   "source": [
    "capacities = [4, 8, 16, 32, 64, 128, 256]\n",
    "pd.set_option(\"display.precision\", 3)\n",
    "result = pd.DataFrame(columns=('capacity', 'avgConstructionTime', 'avgQueryTime', 'avgVerificationTime', 'avgVOSize', 'avgResultSize'))\n",
    "i = 0\n",
    "for c in capacities:\n",
    "    df = pd.read_csv('tree/stats_1-545_c={}.csv'.format(c))\n",
    "    avgConst = df['constructionTime'].mean()\n",
    "    avgQuery = df['queryTime'].mean()\n",
    "    avgVerif = df['verificationTime'].mean()\n",
    "    avgVO = df['voCount'].mean()\n",
    "    avgResult = df['resultCount'].mean()\n",
    "    result.loc[i] = [c, avgConst, avgQuery, avgVerif, avgVO, avgResult]\n",
    "    i += 1\n",
    "# Divide by 1e6 to convert nanoseconds to milliseconds.\n",
    "result['avgConstructionTime'] /= 1e6\n",
    "result['avgQueryTime'] /= 1e6\n",
    "result['avgVerificationTime'] /= 1e6\n",
    "# Round the decimal values to 3 decimal places.\n",
    "result = result.round({'avgConstructionTime': 3, 'avgQueryTime':3, 'avgVerificationTime':3, 'avgVOSize':3, 'avgResultSize':3})\n",
    "result = result.astype({'capacity': int})\n",
    "result"
   ]
  },
  {
   "cell_type": "code",
   "execution_count": 18,
   "id": "1cfb3b5e",
   "metadata": {},
   "outputs": [
    {
     "name": "stdout",
     "output_type": "stream",
     "text": [
      "\\begin{tabular}{rrrrrr}\n",
      "\\toprule\n",
      " capacity &  avgConstructionTime &  avgQueryTime &  avgVerificationTime &  avgVOSize &  avgResultSize \\\\\n",
      "\\midrule\n",
      "        4 &                1.467 &         0.001 &                0.017 &     14.930 &          9.169 \\\\\n",
      "        8 &                1.173 &         0.001 &                0.025 &     32.681 &          9.169 \\\\\n",
      "       16 &                1.034 &         0.001 &                0.059 &    103.342 &          9.169 \\\\\n",
      "       32 &                0.980 &         0.002 &                0.177 &    346.627 &          9.169 \\\\\n",
      "       64 &                0.961 &         0.006 &                0.456 &    929.111 &          9.169 \\\\\n",
      "      128 &                0.948 &         0.007 &                0.552 &   1148.751 &          9.169 \\\\\n",
      "      256 &                0.942 &         0.007 &                0.553 &   1161.746 &          9.169 \\\\\n",
      "\\bottomrule\n",
      "\\end{tabular}\n",
      "\n"
     ]
    },
    {
     "name": "stderr",
     "output_type": "stream",
     "text": [
      "/var/folders/gm/grbx3p550ps44z3jf7l2r4700000gn/T/ipykernel_93721/3886015941.py:1: FutureWarning: In future versions `DataFrame.to_latex` is expected to utilise the base implementation of `Styler.to_latex` for formatting and rendering. The arguments signature may therefore change. It is recommended instead to use `DataFrame.style.to_latex` which also contains additional functionality.\n",
      "  print(result.to_latex(index=False, escape=False))\n"
     ]
    }
   ],
   "source": [
    "print(result.to_latex(index=False, escape=False))"
   ]
  },
  {
   "cell_type": "code",
   "execution_count": null,
   "id": "7faf3f23",
   "metadata": {},
   "outputs": [],
   "source": []
  }
 ],
 "metadata": {
  "kernelspec": {
   "display_name": "Python 3 (ipykernel)",
   "language": "python",
   "name": "python3"
  },
  "language_info": {
   "codemirror_mode": {
    "name": "ipython",
    "version": 3
   },
   "file_extension": ".py",
   "mimetype": "text/x-python",
   "name": "python",
   "nbconvert_exporter": "python",
   "pygments_lexer": "ipython3",
   "version": "3.8.2"
  }
 },
 "nbformat": 4,
 "nbformat_minor": 5
}
