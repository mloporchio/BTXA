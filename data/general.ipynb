{
 "cells": [
  {
   "cell_type": "code",
   "execution_count": 3,
   "id": "a214e402",
   "metadata": {},
   "outputs": [],
   "source": [
    "import pandas as pd\n",
    "import numpy as np\n",
    "import matplotlib.pyplot as plt"
   ]
  },
  {
   "cell_type": "markdown",
   "id": "7b374388",
   "metadata": {},
   "source": [
    "Read the TX input and output data from the corresponding compressed files."
   ]
  },
  {
   "cell_type": "code",
   "execution_count": 2,
   "id": "9759577a",
   "metadata": {},
   "outputs": [],
   "source": [
    "inputs = pd.read_csv('./inputs_1-545.csv.xz', compression='xz')\n",
    "outputs = pd.read_csv('./outputs_1-545.csv.xz', compression='xz')"
   ]
  },
  {
   "cell_type": "markdown",
   "id": "4910eff8",
   "metadata": {},
   "source": []
  },
  {
   "cell_type": "code",
   "execution_count": 4,
   "id": "9036fcc0",
   "metadata": {},
   "outputs": [
    {
     "data": {
      "text/html": [
       "<div>\n",
       "<style scoped>\n",
       "    .dataframe tbody tr th:only-of-type {\n",
       "        vertical-align: middle;\n",
       "    }\n",
       "\n",
       "    .dataframe tbody tr th {\n",
       "        vertical-align: top;\n",
       "    }\n",
       "\n",
       "    .dataframe thead th {\n",
       "        text-align: right;\n",
       "    }\n",
       "</style>\n",
       "<table border=\"1\" class=\"dataframe\">\n",
       "  <thead>\n",
       "    <tr style=\"text-align: right;\">\n",
       "      <th></th>\n",
       "      <th>timestamp</th>\n",
       "      <th>blockId</th>\n",
       "      <th>txId</th>\n",
       "      <th>address</th>\n",
       "      <th>amount</th>\n",
       "      <th>prevTxId</th>\n",
       "      <th>prevTxOffset</th>\n",
       "    </tr>\n",
       "  </thead>\n",
       "  <tbody>\n",
       "    <tr>\n",
       "      <th>0</th>\n",
       "      <td>1286043759</td>\n",
       "      <td>83226</td>\n",
       "      <td>124052</td>\n",
       "      <td>118890</td>\n",
       "      <td>99</td>\n",
       "      <td>121412</td>\n",
       "      <td>1</td>\n",
       "    </tr>\n",
       "    <tr>\n",
       "      <th>1</th>\n",
       "      <td>1286048669</td>\n",
       "      <td>83232</td>\n",
       "      <td>124069</td>\n",
       "      <td>118890</td>\n",
       "      <td>99</td>\n",
       "      <td>121404</td>\n",
       "      <td>0</td>\n",
       "    </tr>\n",
       "    <tr>\n",
       "      <th>2</th>\n",
       "      <td>1292087817</td>\n",
       "      <td>97050</td>\n",
       "      <td>205875</td>\n",
       "      <td>157345</td>\n",
       "      <td>44</td>\n",
       "      <td>202325</td>\n",
       "      <td>0</td>\n",
       "    </tr>\n",
       "    <tr>\n",
       "      <th>3</th>\n",
       "      <td>1304444879</td>\n",
       "      <td>121655</td>\n",
       "      <td>466304</td>\n",
       "      <td>393175</td>\n",
       "      <td>100</td>\n",
       "      <td>465857</td>\n",
       "      <td>1</td>\n",
       "    </tr>\n",
       "    <tr>\n",
       "      <th>4</th>\n",
       "      <td>1304927240</td>\n",
       "      <td>122844</td>\n",
       "      <td>484748</td>\n",
       "      <td>439046</td>\n",
       "      <td>2</td>\n",
       "      <td>453984</td>\n",
       "      <td>0</td>\n",
       "    </tr>\n",
       "  </tbody>\n",
       "</table>\n",
       "</div>"
      ],
      "text/plain": [
       "    timestamp  blockId    txId  address  amount  prevTxId  prevTxOffset\n",
       "0  1286043759    83226  124052   118890      99    121412             1\n",
       "1  1286048669    83232  124069   118890      99    121404             0\n",
       "2  1292087817    97050  205875   157345      44    202325             0\n",
       "3  1304444879   121655  466304   393175     100    465857             1\n",
       "4  1304927240   122844  484748   439046       2    453984             0"
      ]
     },
     "execution_count": 4,
     "metadata": {},
     "output_type": "execute_result"
    }
   ],
   "source": [
    "inputs.head()"
   ]
  },
  {
   "cell_type": "code",
   "execution_count": 5,
   "id": "2ff7ad52",
   "metadata": {},
   "outputs": [
    {
     "data": {
      "text/html": [
       "<div>\n",
       "<style scoped>\n",
       "    .dataframe tbody tr th:only-of-type {\n",
       "        vertical-align: middle;\n",
       "    }\n",
       "\n",
       "    .dataframe tbody tr th {\n",
       "        vertical-align: top;\n",
       "    }\n",
       "\n",
       "    .dataframe thead th {\n",
       "        text-align: right;\n",
       "    }\n",
       "</style>\n",
       "<table border=\"1\" class=\"dataframe\">\n",
       "  <thead>\n",
       "    <tr style=\"text-align: right;\">\n",
       "      <th></th>\n",
       "      <th>timestamp</th>\n",
       "      <th>blockId</th>\n",
       "      <th>txId</th>\n",
       "      <th>address</th>\n",
       "      <th>amount</th>\n",
       "      <th>scriptType</th>\n",
       "      <th>offset</th>\n",
       "    </tr>\n",
       "  </thead>\n",
       "  <tbody>\n",
       "    <tr>\n",
       "      <th>0</th>\n",
       "      <td>1285666089</td>\n",
       "      <td>82560</td>\n",
       "      <td>121385</td>\n",
       "      <td>118890</td>\n",
       "      <td>99</td>\n",
       "      <td>2</td>\n",
       "      <td>0</td>\n",
       "    </tr>\n",
       "    <tr>\n",
       "      <th>1</th>\n",
       "      <td>1285666089</td>\n",
       "      <td>82560</td>\n",
       "      <td>121386</td>\n",
       "      <td>118890</td>\n",
       "      <td>99</td>\n",
       "      <td>2</td>\n",
       "      <td>0</td>\n",
       "    </tr>\n",
       "    <tr>\n",
       "      <th>2</th>\n",
       "      <td>1285666864</td>\n",
       "      <td>82561</td>\n",
       "      <td>121403</td>\n",
       "      <td>118890</td>\n",
       "      <td>99</td>\n",
       "      <td>2</td>\n",
       "      <td>0</td>\n",
       "    </tr>\n",
       "    <tr>\n",
       "      <th>3</th>\n",
       "      <td>1285666864</td>\n",
       "      <td>82561</td>\n",
       "      <td>121404</td>\n",
       "      <td>118890</td>\n",
       "      <td>99</td>\n",
       "      <td>2</td>\n",
       "      <td>0</td>\n",
       "    </tr>\n",
       "    <tr>\n",
       "      <th>4</th>\n",
       "      <td>1285666864</td>\n",
       "      <td>82561</td>\n",
       "      <td>121405</td>\n",
       "      <td>118890</td>\n",
       "      <td>99</td>\n",
       "      <td>2</td>\n",
       "      <td>0</td>\n",
       "    </tr>\n",
       "  </tbody>\n",
       "</table>\n",
       "</div>"
      ],
      "text/plain": [
       "    timestamp  blockId    txId  address  amount  scriptType  offset\n",
       "0  1285666089    82560  121385   118890      99           2       0\n",
       "1  1285666089    82560  121386   118890      99           2       0\n",
       "2  1285666864    82561  121403   118890      99           2       0\n",
       "3  1285666864    82561  121404   118890      99           2       0\n",
       "4  1285666864    82561  121405   118890      99           2       0"
      ]
     },
     "execution_count": 5,
     "metadata": {},
     "output_type": "execute_result"
    }
   ],
   "source": [
    "outputs.head()"
   ]
  },
  {
   "cell_type": "code",
   "execution_count": null,
   "id": "d2a7bd90",
   "metadata": {},
   "outputs": [],
   "source": []
  }
 ],
 "metadata": {
  "kernelspec": {
   "display_name": "Python 3 (ipykernel)",
   "language": "python",
   "name": "python3"
  },
  "language_info": {
   "codemirror_mode": {
    "name": "ipython",
    "version": 3
   },
   "file_extension": ".py",
   "mimetype": "text/x-python",
   "name": "python",
   "nbconvert_exporter": "python",
   "pygments_lexer": "ipython3",
   "version": "3.8.2"
  }
 },
 "nbformat": 4,
 "nbformat_minor": 5
}
