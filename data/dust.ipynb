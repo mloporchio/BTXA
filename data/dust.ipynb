{
 "cells": [
  {
   "cell_type": "code",
   "execution_count": 1,
   "id": "a214e402",
   "metadata": {
    "scrolled": false
   },
   "outputs": [],
   "source": [
    "import pandas as pd\n",
    "import numpy as np\n",
    "import matplotlib.pyplot as plt\n",
    "import matplotlib.dates as mdates\n",
    "from matplotlib.ticker import MultipleLocator, FormatStrFormatter, AutoMinorLocator\n",
    "from datetime import date, datetime\n",
    "from scipy.optimize import curve_fit"
   ]
  },
  {
   "cell_type": "markdown",
   "id": "81a0ec62",
   "metadata": {},
   "source": [
    "# Analysis of Bitcoin dust"
   ]
  },
  {
   "cell_type": "markdown",
   "id": "7b374388",
   "metadata": {},
   "source": [
    "Read the TX input and output data from the corresponding compressed files."
   ]
  },
  {
   "cell_type": "code",
   "execution_count": 2,
   "id": "9759577a",
   "metadata": {
    "scrolled": false
   },
   "outputs": [],
   "source": [
    "inputs = pd.read_csv('dust/inputs_1-545.csv.xz', compression='xz')\n",
    "outputs = pd.read_csv('dust/outputs_1-545.csv.xz', compression='xz')"
   ]
  },
  {
   "cell_type": "markdown",
   "id": "4910eff8",
   "metadata": {},
   "source": [
    "Preview the corresponding data sets and print some basic information."
   ]
  },
  {
   "cell_type": "code",
   "execution_count": 3,
   "id": "9036fcc0",
   "metadata": {
    "scrolled": false
   },
   "outputs": [
    {
     "data": {
      "text/html": [
       "<div>\n",
       "<style scoped>\n",
       "    .dataframe tbody tr th:only-of-type {\n",
       "        vertical-align: middle;\n",
       "    }\n",
       "\n",
       "    .dataframe tbody tr th {\n",
       "        vertical-align: top;\n",
       "    }\n",
       "\n",
       "    .dataframe thead th {\n",
       "        text-align: right;\n",
       "    }\n",
       "</style>\n",
       "<table border=\"1\" class=\"dataframe\">\n",
       "  <thead>\n",
       "    <tr style=\"text-align: right;\">\n",
       "      <th></th>\n",
       "      <th>timestamp</th>\n",
       "      <th>blockId</th>\n",
       "      <th>txId</th>\n",
       "      <th>address</th>\n",
       "      <th>amount</th>\n",
       "      <th>prevTxId</th>\n",
       "      <th>prevTxOffset</th>\n",
       "    </tr>\n",
       "  </thead>\n",
       "  <tbody>\n",
       "    <tr>\n",
       "      <th>0</th>\n",
       "      <td>1286043759</td>\n",
       "      <td>83226</td>\n",
       "      <td>124052</td>\n",
       "      <td>118890</td>\n",
       "      <td>99</td>\n",
       "      <td>121412</td>\n",
       "      <td>1</td>\n",
       "    </tr>\n",
       "    <tr>\n",
       "      <th>1</th>\n",
       "      <td>1286048669</td>\n",
       "      <td>83232</td>\n",
       "      <td>124069</td>\n",
       "      <td>118890</td>\n",
       "      <td>99</td>\n",
       "      <td>121404</td>\n",
       "      <td>0</td>\n",
       "    </tr>\n",
       "    <tr>\n",
       "      <th>2</th>\n",
       "      <td>1292087817</td>\n",
       "      <td>97050</td>\n",
       "      <td>205875</td>\n",
       "      <td>157345</td>\n",
       "      <td>44</td>\n",
       "      <td>202325</td>\n",
       "      <td>0</td>\n",
       "    </tr>\n",
       "    <tr>\n",
       "      <th>3</th>\n",
       "      <td>1304444879</td>\n",
       "      <td>121655</td>\n",
       "      <td>466304</td>\n",
       "      <td>393175</td>\n",
       "      <td>100</td>\n",
       "      <td>465857</td>\n",
       "      <td>1</td>\n",
       "    </tr>\n",
       "    <tr>\n",
       "      <th>4</th>\n",
       "      <td>1304927240</td>\n",
       "      <td>122844</td>\n",
       "      <td>484748</td>\n",
       "      <td>439046</td>\n",
       "      <td>2</td>\n",
       "      <td>453984</td>\n",
       "      <td>0</td>\n",
       "    </tr>\n",
       "  </tbody>\n",
       "</table>\n",
       "</div>"
      ],
      "text/plain": [
       "    timestamp  blockId    txId  address  amount  prevTxId  prevTxOffset\n",
       "0  1286043759    83226  124052   118890      99    121412             1\n",
       "1  1286048669    83232  124069   118890      99    121404             0\n",
       "2  1292087817    97050  205875   157345      44    202325             0\n",
       "3  1304444879   121655  466304   393175     100    465857             1\n",
       "4  1304927240   122844  484748   439046       2    453984             0"
      ]
     },
     "execution_count": 3,
     "metadata": {},
     "output_type": "execute_result"
    }
   ],
   "source": [
    "inputs.head()"
   ]
  },
  {
   "cell_type": "code",
   "execution_count": 4,
   "id": "2ff7ad52",
   "metadata": {
    "scrolled": false
   },
   "outputs": [
    {
     "data": {
      "text/html": [
       "<div>\n",
       "<style scoped>\n",
       "    .dataframe tbody tr th:only-of-type {\n",
       "        vertical-align: middle;\n",
       "    }\n",
       "\n",
       "    .dataframe tbody tr th {\n",
       "        vertical-align: top;\n",
       "    }\n",
       "\n",
       "    .dataframe thead th {\n",
       "        text-align: right;\n",
       "    }\n",
       "</style>\n",
       "<table border=\"1\" class=\"dataframe\">\n",
       "  <thead>\n",
       "    <tr style=\"text-align: right;\">\n",
       "      <th></th>\n",
       "      <th>timestamp</th>\n",
       "      <th>blockId</th>\n",
       "      <th>txId</th>\n",
       "      <th>address</th>\n",
       "      <th>amount</th>\n",
       "      <th>scriptType</th>\n",
       "      <th>offset</th>\n",
       "    </tr>\n",
       "  </thead>\n",
       "  <tbody>\n",
       "    <tr>\n",
       "      <th>0</th>\n",
       "      <td>1285666089</td>\n",
       "      <td>82560</td>\n",
       "      <td>121385</td>\n",
       "      <td>118890</td>\n",
       "      <td>99</td>\n",
       "      <td>2</td>\n",
       "      <td>0</td>\n",
       "    </tr>\n",
       "    <tr>\n",
       "      <th>1</th>\n",
       "      <td>1285666089</td>\n",
       "      <td>82560</td>\n",
       "      <td>121386</td>\n",
       "      <td>118890</td>\n",
       "      <td>99</td>\n",
       "      <td>2</td>\n",
       "      <td>0</td>\n",
       "    </tr>\n",
       "    <tr>\n",
       "      <th>2</th>\n",
       "      <td>1285666864</td>\n",
       "      <td>82561</td>\n",
       "      <td>121403</td>\n",
       "      <td>118890</td>\n",
       "      <td>99</td>\n",
       "      <td>2</td>\n",
       "      <td>0</td>\n",
       "    </tr>\n",
       "    <tr>\n",
       "      <th>3</th>\n",
       "      <td>1285666864</td>\n",
       "      <td>82561</td>\n",
       "      <td>121404</td>\n",
       "      <td>118890</td>\n",
       "      <td>99</td>\n",
       "      <td>2</td>\n",
       "      <td>0</td>\n",
       "    </tr>\n",
       "    <tr>\n",
       "      <th>4</th>\n",
       "      <td>1285666864</td>\n",
       "      <td>82561</td>\n",
       "      <td>121405</td>\n",
       "      <td>118890</td>\n",
       "      <td>99</td>\n",
       "      <td>2</td>\n",
       "      <td>0</td>\n",
       "    </tr>\n",
       "  </tbody>\n",
       "</table>\n",
       "</div>"
      ],
      "text/plain": [
       "    timestamp  blockId    txId  address  amount  scriptType  offset\n",
       "0  1285666089    82560  121385   118890      99           2       0\n",
       "1  1285666089    82560  121386   118890      99           2       0\n",
       "2  1285666864    82561  121403   118890      99           2       0\n",
       "3  1285666864    82561  121404   118890      99           2       0\n",
       "4  1285666864    82561  121405   118890      99           2       0"
      ]
     },
     "execution_count": 4,
     "metadata": {},
     "output_type": "execute_result"
    }
   ],
   "source": [
    "outputs.head()"
   ]
  },
  {
   "cell_type": "code",
   "execution_count": 5,
   "id": "f0122a76",
   "metadata": {},
   "outputs": [
    {
     "name": "stdout",
     "output_type": "stream",
     "text": [
      "N. of inputs:\t2569846\n",
      "N. of outputs:\t4400757\n"
     ]
    }
   ],
   "source": [
    "print('N. of inputs:\\t{}\\nN. of outputs:\\t{}'.format(len(inputs), len(outputs)))"
   ]
  },
  {
   "cell_type": "markdown",
   "id": "9f1d26b7",
   "metadata": {},
   "source": [
    "## Global analysis\n",
    "\n",
    "Let's start by counting how many different transactions are creating dust (i.e., with at least 1 dust output)\n",
    "and how many of them are consuming dust (i.e., they have at least one dust input)."
   ]
  },
  {
   "cell_type": "code",
   "execution_count": 6,
   "id": "d927c165",
   "metadata": {
    "scrolled": false
   },
   "outputs": [
    {
     "name": "stdout",
     "output_type": "stream",
     "text": [
      "N. of transactions creating dust:\t1705560\n",
      "N. of transactions consuming dust:\t429544\n"
     ]
    }
   ],
   "source": [
    "print('N. of transactions creating dust:\\t{}\\nN. of transactions consuming dust:\\t{}'.format(\n",
    "    outputs['txId'].nunique(), inputs['txId'].nunique()))"
   ]
  },
  {
   "cell_type": "markdown",
   "id": "7f8975b4",
   "metadata": {},
   "source": [
    "Then, we create four different plots.\n",
    "\n",
    "1. The first plot counts the number of dust-creating transactions with exactly $x$ dust outputs.\n",
    "2. The second plot counts the number of dust-consuming transactions with exactly $x$ dust inputs.\n",
    "3. The third plot shows the composition of outputs of dust-creating transactions. \n",
    "4. The fourth plot shows the composition of inputs for dust-consuming transactions."
   ]
  },
  {
   "cell_type": "code",
   "execution_count": 7,
   "id": "849d9a25",
   "metadata": {
    "scrolled": true
   },
   "outputs": [
    {
     "data": {
      "image/png": "[encoded data removed]",
      "text/plain": [
       "<Figure size 1296x288 with 4 Axes>"
      ]
     },
     "metadata": {
      "needs_background": "light"
     },
     "output_type": "display_data"
    }
   ],
   "source": [
    "z_out = pd.DataFrame(outputs.groupby('txId').size())[0].value_counts().sort_index()\n",
    "z_in = pd.DataFrame(inputs.groupby('txId').size())[0].value_counts().sort_index()\n",
    "data1 = z_out.reindex([i for i in range(1,z_out.index.max()+1)], fill_value=0)\n",
    "data2 = z_in.reindex([i for i in range(1,z_in.index.max()+1)], fill_value=0)\n",
    "\n",
    "#def power_law(x, a, b):\n",
    "#    return a*np.power(x, b)\n",
    "#\n",
    "#pars, cov = curve_fit(f=power_law, xdata=np.array(data2.index), \n",
    "#                      ydata=np.array(data2), p0=[0, 0], bounds=(-np.inf, np.inf))\n",
    "\n",
    "fig = plt.figure(figsize=(18,4))\n",
    "\n",
    "ax1 = fig.add_subplot(1, 4, 1)\n",
    "ax1.set_title('Dust-creating transactions')\n",
    "ax1.set_xlabel('N. of dust outputs')\n",
    "ax1.set_ylabel('N. of transactions')\n",
    "ax1.set_xscale('log')\n",
    "ax1.set_yscale('log')\n",
    "ax1.plot(list(data1.index), data1, color='#648fff')\n",
    "\n",
    "ax2 = fig.add_subplot(1, 4, 2, sharey=ax1)\n",
    "\n",
    "ax2.set_title('Dust-consuming transactions')\n",
    "ax2.set_xlabel('N. of dust inputs')\n",
    "ax2.set_xscale('log')\n",
    "ax2.set_yscale('log')\n",
    "ax2.plot(list(data2.index), data2, color='#648fff')\n",
    "#ax2.plot(np.array(data2.index), power_law(np.array(data2.index), *pars), \n",
    "#         linestyle='--', linewidth=1, color='black')\n",
    "\n",
    "ax3 = fig.add_subplot(1, 4, 3)\n",
    "df = pd.read_csv('dust/output_composition.csv')\n",
    "sd = df.groupby('outputCount').mean()['dustCount']\n",
    "sn = (sd.index.to_series())-sd\n",
    "data = pd.DataFrame({'dust':sd,'nondust':sn})\n",
    "data_perc = data.divide(data.sum(axis=1), axis=0)\n",
    "ax3.set_title('Outputs in dust-creating transactions')\n",
    "ax3.set_xlabel('N. of outputs')\n",
    "ax3.set_ylabel('Average %')\n",
    "ax3.margins(0,0)\n",
    "ax3.set_xscale('log')\n",
    "ax3.plot(np.array(sd.index), 1/np.array(sd.index), linestyle='--', linewidth=1, color='black')\n",
    "ax3.stackplot(list(sd.index),data_perc['dust'],data_perc['nondust'],colors=['#648fff','#dc267f'],labels=['dust', 'non-dust'])\n",
    "ax3.legend(loc='upper left')\n",
    "\n",
    "ax4 = fig.add_subplot(1, 4, 4, sharey=ax3)\n",
    "df = pd.read_csv('dust/input_composition.csv')\n",
    "sd = df.groupby('inputCount').mean()['dustCount']\n",
    "sn = (sd.index.to_series())-sd\n",
    "data = pd.DataFrame({'dust':sd,'nondust':sn})\n",
    "data_perc = data.divide(data.sum(axis=1), axis=0)\n",
    "ax4.set_title('Inputs in dust-consuming transactions')\n",
    "ax4.set_xlabel('N. of inputs')\n",
    "ax4.margins(0,0)\n",
    "ax4.set_xscale('log')\n",
    "ax4.plot(np.array(sd.index), 1/np.array(sd.index), linestyle='--', linewidth=1, color='black')\n",
    "ax4.stackplot(list(sd.index),data_perc['dust'],data_perc['nondust'],colors=['#648fff','#dc267f'],labels=['dust', 'non-dust'])\n",
    "ax4.legend(loc='upper left')\n",
    "\n",
    "plt.setp(ax2.get_yticklabels(), visible=False)\n",
    "plt.setp(ax4.get_yticklabels(), visible=False)\n",
    "plt.savefig(\"dust/global.pdf\", format='pdf', bbox_inches='tight')\n",
    "plt.show()"
   ]
  },
  {
   "cell_type": "markdown",
   "id": "5b1cef47",
   "metadata": {},
   "source": [
    "##  Address analysis\n",
    "\n",
    "In this section we perform an analysis of the addresses involved in transactions that create and/or spend dust."
   ]
  },
  {
   "cell_type": "markdown",
   "id": "b361fd40",
   "metadata": {},
   "source": [
    "### Top receivers\n",
    "\n",
    "We examine the top dust receivers (_consumers_). For each address, we count how many transactions with at least 1 dust input include that address among their inputs.\n",
    "\n",
    "* 7470171 =>  1PEDJAibfNetJzM289oXsW1qLAgjYDjLgN (Satoshi Dice: https://bitcointalk.org/index.php?topic=127531.msg1354585#msg1354585)\n",
    "* 5483937 =>  15tcsumFPsrw2p9Egmk7wGszFJVxpw7UiD (Satoshi Dice: https://bitcointalk.org/index.php?topic=80312.160)\n",
    "* 2931635 =>  18d3HV2bm94UyY4a9DrPfoZ17sXuiDQq2B (Eligius: https://bitcointalk.org/index.php?topic=441465.2180)\n",
    "* 8080430 =>  14z1fVwxMG71WcijX9J9te8G1wyp7tVqdz (Satoshi Dice: https://bitcointalk.org/index.php?topic=80312.540;wap2)\n",
    "* 4437657 =>  1FE1CDgkqzMSFXFreXrET7hvhEfCP9QabY (Satoshi Dice)"
   ]
  },
  {
   "cell_type": "code",
   "execution_count": 11,
   "id": "b78745cb",
   "metadata": {},
   "outputs": [
    {
     "data": {
      "text/plain": [
       "address\n",
       "7470171    14337\n",
       "5483937    11131\n",
       "2931635     8099\n",
       "8080430     7628\n",
       "4437657     3739\n",
       "Name: txId, dtype: int64"
      ]
     },
     "execution_count": 11,
     "metadata": {},
     "output_type": "execute_result"
    }
   ],
   "source": [
    "outputs.groupby('address').agg({'txId' : 'nunique'})['txId'].nlargest(n=5, keep='first')"
   ]
  },
  {
   "cell_type": "markdown",
   "id": "af89d34e",
   "metadata": {},
   "source": [
    "### Top senders\n",
    "\n",
    "We now examine the top dust senders (_creators_), namely those addresses involved in transactions that contain dust in their outputs. As for receivers, we take the top 5 addresses and associate them with their real identities. Curiously enough, they are all related to Satoshi Dice.\n",
    "\n",
    "* 3524394 => 1dice8EMZmqKvrGE4Qc9bUFf9PX3xaYDp\n",
    "* 3517636 => 1dice97ECuByXAvqXpaYzSaQuPVvrtmz6\n",
    "* 3525822 => 1dice6YgEVBf88erBFra9BHf6ZMoyvG88\n",
    "* 3534212 => 1dice7fUkz5h4z2wPc1wLMPWgB5mDwKDx\n",
    "* 3525858 => 1dice1e6pdhLzzWQq7yMidf6j8eAg7pkY\n",
    "\n",
    "NOTICE: in this case, for each address we are counting how many transactions with at least 1 dust output contain that address in their inputs."
   ]
  },
  {
   "cell_type": "code",
   "execution_count": 15,
   "id": "8e5bb0b7",
   "metadata": {},
   "outputs": [
    {
     "data": {
      "text/plain": [
       "3524394    374464\n",
       "3517636    177201\n",
       "3525822    127790\n",
       "3534212    123005\n",
       "3525858     93724\n",
       "Name: dustCreator, dtype: int64"
      ]
     },
     "execution_count": 15,
     "metadata": {},
     "output_type": "execute_result"
    }
   ],
   "source": [
    "df = pd.read_csv('dust/dust_creators.csv')\n",
    "# We remove duplicate rows (because the same address can appear more than once as a TX input)\n",
    "df = df.drop_duplicates()\n",
    "df['dustCreator'].value_counts().nlargest(n=5, keep='first')"
   ]
  },
  {
   "cell_type": "markdown",
   "id": "e1a1ac7c",
   "metadata": {},
   "source": [
    "## Output analysis\n",
    "\n",
    "The first step is to determine whether a TX output has been spent or not.\n",
    "If the output has been spent, then we are interested in finding the id of the spending TX and the corresponding timestamp.\n",
    "\n",
    "To these aims, we start by rearranging and renaming the colums of the `inputs` dataframe."
   ]
  },
  {
   "cell_type": "code",
   "execution_count": 16,
   "id": "7c0e852c",
   "metadata": {
    "scrolled": false
   },
   "outputs": [
    {
     "data": {
      "text/html": [
       "<div>\n",
       "<style scoped>\n",
       "    .dataframe tbody tr th:only-of-type {\n",
       "        vertical-align: middle;\n",
       "    }\n",
       "\n",
       "    .dataframe tbody tr th {\n",
       "        vertical-align: top;\n",
       "    }\n",
       "\n",
       "    .dataframe thead th {\n",
       "        text-align: right;\n",
       "    }\n",
       "</style>\n",
       "<table border=\"1\" class=\"dataframe\">\n",
       "  <thead>\n",
       "    <tr style=\"text-align: right;\">\n",
       "      <th></th>\n",
       "      <th>spentId</th>\n",
       "      <th>spentBlock</th>\n",
       "      <th>spentTimestamp</th>\n",
       "      <th>txId</th>\n",
       "      <th>address</th>\n",
       "      <th>amount</th>\n",
       "      <th>offset</th>\n",
       "    </tr>\n",
       "  </thead>\n",
       "  <tbody>\n",
       "    <tr>\n",
       "      <th>0</th>\n",
       "      <td>124052</td>\n",
       "      <td>83226</td>\n",
       "      <td>1286043759</td>\n",
       "      <td>121412</td>\n",
       "      <td>118890</td>\n",
       "      <td>99</td>\n",
       "      <td>1</td>\n",
       "    </tr>\n",
       "    <tr>\n",
       "      <th>1</th>\n",
       "      <td>124069</td>\n",
       "      <td>83232</td>\n",
       "      <td>1286048669</td>\n",
       "      <td>121404</td>\n",
       "      <td>118890</td>\n",
       "      <td>99</td>\n",
       "      <td>0</td>\n",
       "    </tr>\n",
       "    <tr>\n",
       "      <th>2</th>\n",
       "      <td>205875</td>\n",
       "      <td>97050</td>\n",
       "      <td>1292087817</td>\n",
       "      <td>202325</td>\n",
       "      <td>157345</td>\n",
       "      <td>44</td>\n",
       "      <td>0</td>\n",
       "    </tr>\n",
       "    <tr>\n",
       "      <th>3</th>\n",
       "      <td>466304</td>\n",
       "      <td>121655</td>\n",
       "      <td>1304444879</td>\n",
       "      <td>465857</td>\n",
       "      <td>393175</td>\n",
       "      <td>100</td>\n",
       "      <td>1</td>\n",
       "    </tr>\n",
       "    <tr>\n",
       "      <th>4</th>\n",
       "      <td>484748</td>\n",
       "      <td>122844</td>\n",
       "      <td>1304927240</td>\n",
       "      <td>453984</td>\n",
       "      <td>439046</td>\n",
       "      <td>2</td>\n",
       "      <td>0</td>\n",
       "    </tr>\n",
       "  </tbody>\n",
       "</table>\n",
       "</div>"
      ],
      "text/plain": [
       "   spentId  spentBlock  spentTimestamp    txId  address  amount  offset\n",
       "0   124052       83226      1286043759  121412   118890      99       1\n",
       "1   124069       83232      1286048669  121404   118890      99       0\n",
       "2   205875       97050      1292087817  202325   157345      44       0\n",
       "3   466304      121655      1304444879  465857   393175     100       1\n",
       "4   484748      122844      1304927240  453984   439046       2       0"
      ]
     },
     "execution_count": 16,
     "metadata": {},
     "output_type": "execute_result"
    }
   ],
   "source": [
    "inputs_mod = inputs[['txId', 'blockId', 'timestamp', 'prevTxId', 'address', 'amount', 'prevTxOffset']]\n",
    "inputs_mod = inputs_mod.rename(columns = {'txId':'spentId', 'blockId':'spentBlock', 'timestamp':'spentTimestamp', 'prevTxId':'txId', 'prevTxOffset':'offset'})\n",
    "inputs_mod.head()"
   ]
  },
  {
   "cell_type": "markdown",
   "id": "7a24855b",
   "metadata": {},
   "source": [
    "Now we perform a join between the modified inputs dataframe and the outputs table to classify all outputs and see whether they have been spent or they are still unspent.\n",
    "\n",
    "In the resulting table, the `spentId` column will contain the identifier of the transaction where the output has been spent, or -1 if the output is unspent. The same applies to the TX timestamp."
   ]
  },
  {
   "cell_type": "code",
   "execution_count": 17,
   "id": "7dd7957d",
   "metadata": {
    "scrolled": false
   },
   "outputs": [
    {
     "data": {
      "text/html": [
       "<div>\n",
       "<style scoped>\n",
       "    .dataframe tbody tr th:only-of-type {\n",
       "        vertical-align: middle;\n",
       "    }\n",
       "\n",
       "    .dataframe tbody tr th {\n",
       "        vertical-align: top;\n",
       "    }\n",
       "\n",
       "    .dataframe thead th {\n",
       "        text-align: right;\n",
       "    }\n",
       "</style>\n",
       "<table border=\"1\" class=\"dataframe\">\n",
       "  <thead>\n",
       "    <tr style=\"text-align: right;\">\n",
       "      <th></th>\n",
       "      <th>timestamp</th>\n",
       "      <th>blockId</th>\n",
       "      <th>txId</th>\n",
       "      <th>address</th>\n",
       "      <th>amount</th>\n",
       "      <th>scriptType</th>\n",
       "      <th>offset</th>\n",
       "      <th>spentId</th>\n",
       "      <th>spentBlock</th>\n",
       "      <th>spentTimestamp</th>\n",
       "    </tr>\n",
       "  </thead>\n",
       "  <tbody>\n",
       "    <tr>\n",
       "      <th>0</th>\n",
       "      <td>1285666089</td>\n",
       "      <td>82560</td>\n",
       "      <td>121385</td>\n",
       "      <td>118890</td>\n",
       "      <td>99</td>\n",
       "      <td>2</td>\n",
       "      <td>0</td>\n",
       "      <td>-1</td>\n",
       "      <td>-1</td>\n",
       "      <td>-1</td>\n",
       "    </tr>\n",
       "    <tr>\n",
       "      <th>1</th>\n",
       "      <td>1285666089</td>\n",
       "      <td>82560</td>\n",
       "      <td>121386</td>\n",
       "      <td>118890</td>\n",
       "      <td>99</td>\n",
       "      <td>2</td>\n",
       "      <td>0</td>\n",
       "      <td>-1</td>\n",
       "      <td>-1</td>\n",
       "      <td>-1</td>\n",
       "    </tr>\n",
       "    <tr>\n",
       "      <th>2</th>\n",
       "      <td>1285666864</td>\n",
       "      <td>82561</td>\n",
       "      <td>121403</td>\n",
       "      <td>118890</td>\n",
       "      <td>99</td>\n",
       "      <td>2</td>\n",
       "      <td>0</td>\n",
       "      <td>-1</td>\n",
       "      <td>-1</td>\n",
       "      <td>-1</td>\n",
       "    </tr>\n",
       "    <tr>\n",
       "      <th>3</th>\n",
       "      <td>1285666864</td>\n",
       "      <td>82561</td>\n",
       "      <td>121404</td>\n",
       "      <td>118890</td>\n",
       "      <td>99</td>\n",
       "      <td>2</td>\n",
       "      <td>0</td>\n",
       "      <td>124069</td>\n",
       "      <td>83232</td>\n",
       "      <td>1286048669</td>\n",
       "    </tr>\n",
       "    <tr>\n",
       "      <th>4</th>\n",
       "      <td>1285666864</td>\n",
       "      <td>82561</td>\n",
       "      <td>121405</td>\n",
       "      <td>118890</td>\n",
       "      <td>99</td>\n",
       "      <td>2</td>\n",
       "      <td>0</td>\n",
       "      <td>-1</td>\n",
       "      <td>-1</td>\n",
       "      <td>-1</td>\n",
       "    </tr>\n",
       "  </tbody>\n",
       "</table>\n",
       "</div>"
      ],
      "text/plain": [
       "    timestamp  blockId    txId  address  amount  scriptType  offset  spentId  \\\n",
       "0  1285666089    82560  121385   118890      99           2       0       -1   \n",
       "1  1285666089    82560  121386   118890      99           2       0       -1   \n",
       "2  1285666864    82561  121403   118890      99           2       0       -1   \n",
       "3  1285666864    82561  121404   118890      99           2       0   124069   \n",
       "4  1285666864    82561  121405   118890      99           2       0       -1   \n",
       "\n",
       "   spentBlock  spentTimestamp  \n",
       "0          -1              -1  \n",
       "1          -1              -1  \n",
       "2          -1              -1  \n",
       "3       83232      1286048669  \n",
       "4          -1              -1  "
      ]
     },
     "execution_count": 17,
     "metadata": {},
     "output_type": "execute_result"
    }
   ],
   "source": [
    "result = pd.merge(outputs, inputs_mod, on=['txId', 'address', 'amount', 'offset'], how='left', indicator=False)\n",
    "result['spentId']=result['spentId'].fillna(-1).astype(int)\n",
    "result['spentBlock']=result['spentBlock'].fillna(-1).astype(int)\n",
    "result['spentTimestamp']=result['spentTimestamp'].fillna(-1).astype(int)\n",
    "result.head()"
   ]
  },
  {
   "cell_type": "markdown",
   "id": "71320be3",
   "metadata": {},
   "source": [
    "### Spent outputs\n",
    "\n",
    "Now we focus on all spent outputs (i.e., those whose `spentId` is different from -1).\n",
    "\n",
    "We would like to classify them according to the kind of transaction they belong to.\n",
    "\n",
    " * Type 0: transactions without any input.\n",
    " * Type 1: transactions that do not aggregate any dust output.\n",
    " * Type 2: transactions that combine dust with larger amounts.\n",
    " * Type 3: transactions that only aggregate dust outputs.\n",
    " * Type 4: unrecognized type."
   ]
  },
  {
   "cell_type": "code",
   "execution_count": 21,
   "id": "7e2d8264",
   "metadata": {
    "scrolled": false
   },
   "outputs": [
    {
     "data": {
      "text/html": [
       "<div>\n",
       "<style scoped>\n",
       "    .dataframe tbody tr th:only-of-type {\n",
       "        vertical-align: middle;\n",
       "    }\n",
       "\n",
       "    .dataframe tbody tr th {\n",
       "        vertical-align: top;\n",
       "    }\n",
       "\n",
       "    .dataframe thead th {\n",
       "        text-align: right;\n",
       "    }\n",
       "</style>\n",
       "<table border=\"1\" class=\"dataframe\">\n",
       "  <thead>\n",
       "    <tr style=\"text-align: right;\">\n",
       "      <th></th>\n",
       "      <th>timestamp</th>\n",
       "      <th>blockId</th>\n",
       "      <th>txId</th>\n",
       "      <th>address</th>\n",
       "      <th>amount</th>\n",
       "      <th>scriptType</th>\n",
       "      <th>offset</th>\n",
       "      <th>spentId</th>\n",
       "      <th>spentBlock</th>\n",
       "      <th>spentTimestamp</th>\n",
       "    </tr>\n",
       "  </thead>\n",
       "  <tbody>\n",
       "    <tr>\n",
       "      <th>3</th>\n",
       "      <td>1285666864</td>\n",
       "      <td>82561</td>\n",
       "      <td>121404</td>\n",
       "      <td>118890</td>\n",
       "      <td>99</td>\n",
       "      <td>2</td>\n",
       "      <td>0</td>\n",
       "      <td>124069</td>\n",
       "      <td>83232</td>\n",
       "      <td>1286048669</td>\n",
       "    </tr>\n",
       "    <tr>\n",
       "      <th>11</th>\n",
       "      <td>1285666864</td>\n",
       "      <td>82561</td>\n",
       "      <td>121412</td>\n",
       "      <td>118890</td>\n",
       "      <td>99</td>\n",
       "      <td>2</td>\n",
       "      <td>1</td>\n",
       "      <td>124052</td>\n",
       "      <td>83226</td>\n",
       "      <td>1286043759</td>\n",
       "    </tr>\n",
       "    <tr>\n",
       "      <th>14</th>\n",
       "      <td>1291439070</td>\n",
       "      <td>95420</td>\n",
       "      <td>202325</td>\n",
       "      <td>157345</td>\n",
       "      <td>44</td>\n",
       "      <td>1</td>\n",
       "      <td>0</td>\n",
       "      <td>205875</td>\n",
       "      <td>97050</td>\n",
       "      <td>1292087817</td>\n",
       "    </tr>\n",
       "    <tr>\n",
       "      <th>25</th>\n",
       "      <td>1303898162</td>\n",
       "      <td>120476</td>\n",
       "      <td>444017</td>\n",
       "      <td>426688</td>\n",
       "      <td>1</td>\n",
       "      <td>2</td>\n",
       "      <td>1</td>\n",
       "      <td>553669</td>\n",
       "      <td>126415</td>\n",
       "      <td>1306269462</td>\n",
       "    </tr>\n",
       "    <tr>\n",
       "      <th>26</th>\n",
       "      <td>1304142356</td>\n",
       "      <td>120986</td>\n",
       "      <td>453984</td>\n",
       "      <td>439046</td>\n",
       "      <td>2</td>\n",
       "      <td>2</td>\n",
       "      <td>0</td>\n",
       "      <td>484748</td>\n",
       "      <td>122844</td>\n",
       "      <td>1304927240</td>\n",
       "    </tr>\n",
       "  </tbody>\n",
       "</table>\n",
       "</div>"
      ],
      "text/plain": [
       "     timestamp  blockId    txId  address  amount  scriptType  offset  spentId  \\\n",
       "3   1285666864    82561  121404   118890      99           2       0   124069   \n",
       "11  1285666864    82561  121412   118890      99           2       1   124052   \n",
       "14  1291439070    95420  202325   157345      44           1       0   205875   \n",
       "25  1303898162   120476  444017   426688       1           2       1   553669   \n",
       "26  1304142356   120986  453984   439046       2           2       0   484748   \n",
       "\n",
       "    spentBlock  spentTimestamp  \n",
       "3        83232      1286048669  \n",
       "11       83226      1286043759  \n",
       "14       97050      1292087817  \n",
       "25      126415      1306269462  \n",
       "26      122844      1304927240  "
      ]
     },
     "execution_count": 21,
     "metadata": {},
     "output_type": "execute_result"
    }
   ],
   "source": [
    "spent = result[result.spentId != -1]\n",
    "spent.head()"
   ]
  },
  {
   "cell_type": "markdown",
   "id": "8257ce3d",
   "metadata": {},
   "source": [
    "At this point, the number of spent outputs should be equal to the number of inputs."
   ]
  },
  {
   "cell_type": "code",
   "execution_count": 22,
   "id": "b021b605",
   "metadata": {},
   "outputs": [
    {
     "name": "stdout",
     "output_type": "stream",
     "text": [
      "Number of spent outputs: 2569846\n",
      "Number of inputs: 2569846\n"
     ]
    }
   ],
   "source": [
    "print('Number of spent outputs: {}\\nNumber of inputs: {}'.format(len(spent), len(inputs)))"
   ]
  },
  {
   "cell_type": "markdown",
   "id": "5b27104b",
   "metadata": {},
   "source": [
    "To classify all spent outputs, we import the TX classification data set. Here, each transaction identifier is associated with a code that describes whether it fully aggregates dust or not."
   ]
  },
  {
   "cell_type": "raw",
   "id": "39b1da13",
   "metadata": {},
   "source": [
    "txclass = pd.read_csv('dust/classification.csv.xz', compression='xz')\n",
    "txclass = txclass.rename(columns = {'txId':'spentId'})\n",
    "txclass.head()"
   ]
  },
  {
   "cell_type": "markdown",
   "id": "facd3ee2",
   "metadata": {},
   "source": [
    "We perform a join between the spent outputs table and the classified TX data to classify all spent outputs."
   ]
  },
  {
   "cell_type": "raw",
   "id": "ae7a48e7",
   "metadata": {},
   "source": [
    "outclass = pd.merge(spent, txclass, on=['spentId'], how='left', indicator=False)\n",
    "outclass.to_csv('dust/spent_1-545.csv', index=False)\n",
    "outclass.head()"
   ]
  },
  {
   "cell_type": "markdown",
   "id": "abd2bf61",
   "metadata": {},
   "source": [
    "### Unspent outputs\n",
    "\n",
    "Let's focus on the unspent TX outputs and compare them against the spent ones.\n",
    "\n",
    "An output is unspent if and only if its `spentId` is equal to -1."
   ]
  },
  {
   "cell_type": "code",
   "execution_count": 58,
   "id": "093c4b90",
   "metadata": {},
   "outputs": [
    {
     "data": {
      "text/html": [
       "<div>\n",
       "<style scoped>\n",
       "    .dataframe tbody tr th:only-of-type {\n",
       "        vertical-align: middle;\n",
       "    }\n",
       "\n",
       "    .dataframe tbody tr th {\n",
       "        vertical-align: top;\n",
       "    }\n",
       "\n",
       "    .dataframe thead th {\n",
       "        text-align: right;\n",
       "    }\n",
       "</style>\n",
       "<table border=\"1\" class=\"dataframe\">\n",
       "  <thead>\n",
       "    <tr style=\"text-align: right;\">\n",
       "      <th></th>\n",
       "      <th>timestamp</th>\n",
       "      <th>blockId</th>\n",
       "      <th>txId</th>\n",
       "      <th>address</th>\n",
       "      <th>amount</th>\n",
       "      <th>scriptType</th>\n",
       "      <th>offset</th>\n",
       "      <th>spentId</th>\n",
       "      <th>spentBlock</th>\n",
       "      <th>spentTimestamp</th>\n",
       "    </tr>\n",
       "  </thead>\n",
       "  <tbody>\n",
       "    <tr>\n",
       "      <th>0</th>\n",
       "      <td>1285666089</td>\n",
       "      <td>82560</td>\n",
       "      <td>121385</td>\n",
       "      <td>118890</td>\n",
       "      <td>99</td>\n",
       "      <td>2</td>\n",
       "      <td>0</td>\n",
       "      <td>-1</td>\n",
       "      <td>-1</td>\n",
       "      <td>-1</td>\n",
       "    </tr>\n",
       "    <tr>\n",
       "      <th>1</th>\n",
       "      <td>1285666089</td>\n",
       "      <td>82560</td>\n",
       "      <td>121386</td>\n",
       "      <td>118890</td>\n",
       "      <td>99</td>\n",
       "      <td>2</td>\n",
       "      <td>0</td>\n",
       "      <td>-1</td>\n",
       "      <td>-1</td>\n",
       "      <td>-1</td>\n",
       "    </tr>\n",
       "    <tr>\n",
       "      <th>2</th>\n",
       "      <td>1285666864</td>\n",
       "      <td>82561</td>\n",
       "      <td>121403</td>\n",
       "      <td>118890</td>\n",
       "      <td>99</td>\n",
       "      <td>2</td>\n",
       "      <td>0</td>\n",
       "      <td>-1</td>\n",
       "      <td>-1</td>\n",
       "      <td>-1</td>\n",
       "    </tr>\n",
       "    <tr>\n",
       "      <th>4</th>\n",
       "      <td>1285666864</td>\n",
       "      <td>82561</td>\n",
       "      <td>121405</td>\n",
       "      <td>118890</td>\n",
       "      <td>99</td>\n",
       "      <td>2</td>\n",
       "      <td>0</td>\n",
       "      <td>-1</td>\n",
       "      <td>-1</td>\n",
       "      <td>-1</td>\n",
       "    </tr>\n",
       "    <tr>\n",
       "      <th>5</th>\n",
       "      <td>1285666864</td>\n",
       "      <td>82561</td>\n",
       "      <td>121406</td>\n",
       "      <td>118890</td>\n",
       "      <td>99</td>\n",
       "      <td>2</td>\n",
       "      <td>0</td>\n",
       "      <td>-1</td>\n",
       "      <td>-1</td>\n",
       "      <td>-1</td>\n",
       "    </tr>\n",
       "  </tbody>\n",
       "</table>\n",
       "</div>"
      ],
      "text/plain": [
       "    timestamp  blockId    txId  address  amount  scriptType  offset  spentId  \\\n",
       "0  1285666089    82560  121385   118890      99           2       0       -1   \n",
       "1  1285666089    82560  121386   118890      99           2       0       -1   \n",
       "2  1285666864    82561  121403   118890      99           2       0       -1   \n",
       "4  1285666864    82561  121405   118890      99           2       0       -1   \n",
       "5  1285666864    82561  121406   118890      99           2       0       -1   \n",
       "\n",
       "   spentBlock  spentTimestamp  \n",
       "0          -1              -1  \n",
       "1          -1              -1  \n",
       "2          -1              -1  \n",
       "4          -1              -1  \n",
       "5          -1              -1  "
      ]
     },
     "execution_count": 58,
     "metadata": {},
     "output_type": "execute_result"
    }
   ],
   "source": [
    "unspent = result[result.spentId == -1]\n",
    "unspent.to_csv('dust/unspent_1-545.csv', index=False)\n",
    "unspent.head()"
   ]
  },
  {
   "cell_type": "markdown",
   "id": "4d9861c5",
   "metadata": {},
   "source": [
    "### Classification"
   ]
  },
  {
   "cell_type": "markdown",
   "id": "817c8710",
   "metadata": {},
   "source": [
    "In this subsection, we classify **ALL** outputs in three categories: \n",
    "\n",
    "1. Unspent\n",
    "2. NOD: spent dust that has been combined with larger (non-dust) amounts.\n",
    "3. OD: spent dust that has been combined only with other dust."
   ]
  },
  {
   "cell_type": "code",
   "execution_count": 27,
   "id": "ec2b636a",
   "metadata": {},
   "outputs": [
    {
     "data": {
      "text/html": [
       "<div>\n",
       "<style scoped>\n",
       "    .dataframe tbody tr th:only-of-type {\n",
       "        vertical-align: middle;\n",
       "    }\n",
       "\n",
       "    .dataframe tbody tr th {\n",
       "        vertical-align: top;\n",
       "    }\n",
       "\n",
       "    .dataframe thead th {\n",
       "        text-align: right;\n",
       "    }\n",
       "</style>\n",
       "<table border=\"1\" class=\"dataframe\">\n",
       "  <thead>\n",
       "    <tr style=\"text-align: right;\">\n",
       "      <th></th>\n",
       "      <th>N. of outputs</th>\n",
       "      <th>Percentage</th>\n",
       "    </tr>\n",
       "  </thead>\n",
       "  <tbody>\n",
       "    <tr>\n",
       "      <th>Unspent</th>\n",
       "      <td>1830911</td>\n",
       "      <td>41.604456</td>\n",
       "    </tr>\n",
       "    <tr>\n",
       "      <th>NOD</th>\n",
       "      <td>2420707</td>\n",
       "      <td>55.006605</td>\n",
       "    </tr>\n",
       "    <tr>\n",
       "      <th>OD</th>\n",
       "      <td>149139</td>\n",
       "      <td>3.388940</td>\n",
       "    </tr>\n",
       "  </tbody>\n",
       "</table>\n",
       "</div>"
      ],
      "text/plain": [
       "         N. of outputs  Percentage\n",
       "Unspent        1830911   41.604456\n",
       "NOD            2420707   55.006605\n",
       "OD              149139    3.388940"
      ]
     },
     "execution_count": 27,
     "metadata": {},
     "output_type": "execute_result"
    }
   ],
   "source": [
    "spentclass = pd.read_csv('dust/spent_1-545.csv.xz', compression='xz')\n",
    "s1 = pd.Series([len(pd.read_csv('dust/unspent_1-545.csv.xz', compression='xz'))])\n",
    "s2 = spentclass['type'].value_counts()\n",
    "s = pd.concat([s1, s2])\n",
    "s.index = ['Unspent', 'NOD', 'OD']\n",
    "p = s*100/sum(s)\n",
    "frame = { 'N. of outputs': s, 'Percentage' : p}\n",
    "df = pd.DataFrame(frame)\n",
    "df"
   ]
  },
  {
   "cell_type": "markdown",
   "id": "d8e40817",
   "metadata": {},
   "source": [
    "### Temporal analysis\n",
    "\n",
    "In this section we try to discover patterns behind NOD (a.k.a. Type 2) and OD (a.k.a. Type 3) aggregations.\n",
    "We do so by performing a temporal analysis on the TX output timestamps.\n",
    "\n",
    "First, we transform the `timestamp` and `spentTimestamp` columns in a human-readable format."
   ]
  },
  {
   "cell_type": "code",
   "execution_count": 28,
   "id": "aca2a062",
   "metadata": {},
   "outputs": [],
   "source": [
    "spentclass = pd.read_csv('dust/spent_1-545.csv.xz', compression='xz')\n",
    "\n",
    "type2 = (spentclass[spentclass.type == 2]).copy()\n",
    "type2['timestamp'] = type2['timestamp'].apply(lambda t : datetime.fromtimestamp(t))\n",
    "type2['spentTimestamp'] = type2['spentTimestamp'].apply(lambda t : datetime.fromtimestamp(t))\n",
    "\n",
    "type3 = (spentclass[spentclass.type == 3]).copy()\n",
    "type3['timestamp'] = type3['timestamp'].apply(lambda t : datetime.fromtimestamp(t))\n",
    "type3['spentTimestamp'] = type3['spentTimestamp'].apply(lambda t : datetime.fromtimestamp(t))"
   ]
  },
  {
   "cell_type": "markdown",
   "id": "fed27be4",
   "metadata": {},
   "source": [
    "Then we examine the number of NOD and OD outputs for each year."
   ]
  },
  {
   "cell_type": "code",
   "execution_count": 29,
   "id": "ae668e0c",
   "metadata": {},
   "outputs": [
    {
     "data": {
      "text/html": [
       "<div>\n",
       "<style scoped>\n",
       "    .dataframe tbody tr th:only-of-type {\n",
       "        vertical-align: middle;\n",
       "    }\n",
       "\n",
       "    .dataframe tbody tr th {\n",
       "        vertical-align: top;\n",
       "    }\n",
       "\n",
       "    .dataframe thead th {\n",
       "        text-align: right;\n",
       "    }\n",
       "</style>\n",
       "<table border=\"1\" class=\"dataframe\">\n",
       "  <thead>\n",
       "    <tr style=\"text-align: right;\">\n",
       "      <th></th>\n",
       "      <th>NOD</th>\n",
       "      <th>OD</th>\n",
       "    </tr>\n",
       "    <tr>\n",
       "      <th>Year</th>\n",
       "      <th></th>\n",
       "      <th></th>\n",
       "    </tr>\n",
       "  </thead>\n",
       "  <tbody>\n",
       "    <tr>\n",
       "      <th>2009</th>\n",
       "      <td>0</td>\n",
       "      <td>0</td>\n",
       "    </tr>\n",
       "    <tr>\n",
       "      <th>2010</th>\n",
       "      <td>3</td>\n",
       "      <td>0</td>\n",
       "    </tr>\n",
       "    <tr>\n",
       "      <th>2011</th>\n",
       "      <td>825</td>\n",
       "      <td>0</td>\n",
       "    </tr>\n",
       "    <tr>\n",
       "      <th>2012</th>\n",
       "      <td>784148</td>\n",
       "      <td>130</td>\n",
       "    </tr>\n",
       "    <tr>\n",
       "      <th>2013</th>\n",
       "      <td>881039</td>\n",
       "      <td>148067</td>\n",
       "    </tr>\n",
       "    <tr>\n",
       "      <th>2014</th>\n",
       "      <td>307546</td>\n",
       "      <td>626</td>\n",
       "    </tr>\n",
       "    <tr>\n",
       "      <th>2015</th>\n",
       "      <td>395115</td>\n",
       "      <td>1</td>\n",
       "    </tr>\n",
       "    <tr>\n",
       "      <th>2016</th>\n",
       "      <td>29171</td>\n",
       "      <td>0</td>\n",
       "    </tr>\n",
       "    <tr>\n",
       "      <th>2017</th>\n",
       "      <td>22860</td>\n",
       "      <td>315</td>\n",
       "    </tr>\n",
       "  </tbody>\n",
       "</table>\n",
       "</div>"
      ],
      "text/plain": [
       "         NOD      OD\n",
       "Year                \n",
       "2009       0       0\n",
       "2010       3       0\n",
       "2011     825       0\n",
       "2012  784148     130\n",
       "2013  881039  148067\n",
       "2014  307546     626\n",
       "2015  395115       1\n",
       "2016   29171       0\n",
       "2017   22860     315"
      ]
     },
     "execution_count": 29,
     "metadata": {},
     "output_type": "execute_result"
    }
   ],
   "source": [
    "type2_year = type2.groupby(type2.spentTimestamp.dt.year).size()\n",
    "type2_year = type2_year.rename_axis('Year')\n",
    "type2_year = type2_year.reindex([2009, 2010, 2011, 2012, 2013, 2014, 2015, 2016, 2017], fill_value=0)\n",
    "\n",
    "type3_year = type3.groupby(type3.spentTimestamp.dt.year).size()\n",
    "type3_year = type3_year.rename_axis('Year')\n",
    "type3_year = type3_year.reindex([2009, 2010, 2011, 2012, 2013, 2014, 2015, 2016, 2017], fill_value=0)\n",
    "\n",
    "pd.DataFrame({'NOD': type2_year, 'OD': type3_year})"
   ]
  },
  {
   "cell_type": "markdown",
   "id": "e0f4d774",
   "metadata": {},
   "source": [
    "We then create two plots: the first shows the NOD and OD consumption over the years [2009,2013], while the second illustrates the OD consumption during 2013."
   ]
  },
  {
   "cell_type": "code",
   "execution_count": 11,
   "id": "595b6d97",
   "metadata": {
    "scrolled": true
   },
   "outputs": [
    {
     "data": {
      "image/png": "[encoded data removed]",
      "text/plain": [
       "<Figure size 720x288 with 2 Axes>"
      ]
     },
     "metadata": {
      "needs_background": "light"
     },
     "output_type": "display_data"
    }
   ],
   "source": [
    "import datetime\n",
    "\n",
    "type2_data = mdates.date2num(type2['spentTimestamp'].values)\n",
    "type3_data = mdates.date2num(type3['spentTimestamp'].values)\n",
    "type3_2013 = (type3[(type3.spentTimestamp.dt.year == 2013)])['spentTimestamp'].values\n",
    "type3_oct2013 = (type3[(type3.spentTimestamp.dt.year == 2013) & (type3.spentTimestamp.dt.month == 10)])['spentTimestamp'].values\n",
    "\n",
    "years = [2010, 2011, 2012, 2013, 2014, 2015, 2016, 2017]\n",
    "months = [i for i in range(1, 12+1, 3)]\n",
    "bins = []\n",
    "for y in years:\n",
    "    for m in months:\n",
    "        bins.append(datetime.date(y, m, 1))\n",
    "hist_bins = mdates.date2num(bins)\n",
    "\n",
    "fig = plt.figure(figsize=(10,4))\n",
    "\n",
    "ax1 = fig.add_subplot(1, 2, 1)\n",
    "ax1.set_title('Output consumption')\n",
    "ax1.set_xlabel('Year')\n",
    "ax1.set_ylabel('N. of outputs')\n",
    "ax1.set_yscale('log')\n",
    "ax1.xaxis.set_major_locator(mdates.YearLocator())\n",
    "ax1.xaxis.set_major_formatter(mdates.DateFormatter('%Y'))\n",
    "ax1.hist(type2_data, bins=hist_bins, color='#648fff', label='NOD')\n",
    "ax1.hist(type3_data, bins=hist_bins, color='#fe6100', label='OD')\n",
    "ax1.legend(loc='upper left')\n",
    "\n",
    "ax2 = fig.add_subplot(1, 2, 2)\n",
    "hbins = mdates.date2num([datetime.date(2013, i, 1) for i in range(1, 12+1)])\n",
    "ax2.set_title('OD consumption (2013)')\n",
    "ax2.set_xlabel('Month')\n",
    "ax2.set_ylabel('N. of outputs')\n",
    "ax2.set_yscale('log')\n",
    "ax2.xaxis.set_major_formatter(mdates.DateFormatter('%b'))\n",
    "ax2.hist(type3_2013, bins=hbins, color='#fe6100', label='OD')\n",
    "\n",
    "#ax3 = fig.add_subplot(1, 3, 3)\n",
    "#hbins = mdates.date2num([datetime.date(2013, 10, i) for i in range(1, 30+1)])\n",
    "#ax3.set_title('OD aggregations (Oct 2013)')\n",
    "#ax3.set_xlabel('Day')\n",
    "#ax3.set_ylabel('N. of outputs')\n",
    "#ax3.set_yscale('log')\n",
    "#ax3.xaxis.set_major_formatter(mdates.DateFormatter('%d'))\n",
    "#ax3.hist(type3_oct2013, bins=hbins, color='#fe6100', label='OD')\n",
    "\n",
    "plt.savefig(\"dust/temporal.pdf\", format='pdf', bbox_inches='tight')"
   ]
  },
  {
   "cell_type": "markdown",
   "id": "a89bde1c",
   "metadata": {},
   "source": [
    "#### NOD analysis\n",
    "\n",
    "For a more in-depth analysis of NOD, we take the top 5 addresses among these outputs.\n",
    "\n",
    "We discover that the top 3 (highlighted in red) have already been linked to Satoshi Dice.\n",
    "\n",
    "* <p style=\"color:red;\">7470171 =>  1PEDJAibfNetJzM289oXsW1qLAgjYDjLgN</p>\n",
    "* <p style=\"color:red;\">8080430 =>  14z1fVwxMG71WcijX9J9te8G1wyp7tVqdz</p>\n",
    "* <p style=\"color:red;\">2931635 =>  18d3HV2bm94UyY4a9DrPfoZ17sXuiDQq2B</p>\n",
    "* 8299015 =>  1GmREU2gwcvQHRQFgwHvbD4dyL8iryCPMY\n",
    "* 10241823 =>  1dES7RLppoYc8mLQedwUoJMZZ9RnuCP5f"
   ]
  },
  {
   "cell_type": "code",
   "execution_count": 20,
   "id": "a9d9fc83",
   "metadata": {},
   "outputs": [
    {
     "data": {
      "text/plain": [
       "7470171     12502\n",
       "8080430      7628\n",
       "2931635      7288\n",
       "8299015      3614\n",
       "10241823     3526\n",
       "Name: address, dtype: int64"
      ]
     },
     "execution_count": 20,
     "metadata": {},
     "output_type": "execute_result"
    }
   ],
   "source": [
    "type2['address'].value_counts().nlargest(n=5, keep='first')"
   ]
  },
  {
   "cell_type": "markdown",
   "id": "8e25f69e",
   "metadata": {},
   "source": [
    "For the remaining two address, namely 8299015 and 10241823, we computed the set of outputs sent by (at least one) known Satoshi Dice address. The goal is to link their activity with this gambling game, as previously done for the first three addresses."
   ]
  },
  {
   "cell_type": "code",
   "execution_count": 22,
   "id": "d87db351",
   "metadata": {
    "scrolled": true
   },
   "outputs": [
    {
     "name": "stdout",
     "output_type": "stream",
     "text": [
      "Outputs received from SD\n",
      "Address 8299015:\t3270\n",
      "Address 10241823:\t3526\n"
     ]
    }
   ],
   "source": [
    "l1 = len(pd.read_csv('dust/satoshi-dice/8299015_outputs_from_sd.csv'))\n",
    "l2 = len(pd.read_csv('dust/satoshi-dice/10241823_outputs_from_sd.csv'))\n",
    "print('Outputs received from SD\\nAddress 8299015:\\t{}\\nAddress 10241823:\\t{}'.format(l1, l2))"
   ]
  },
  {
   "cell_type": "markdown",
   "id": "9f1f6af1",
   "metadata": {},
   "source": [
    "#### OD analysis\n",
    "\n",
    "In this section we try to discover patterns behind OD aggregations by analyzing how they have evolved over time."
   ]
  },
  {
   "cell_type": "code",
   "execution_count": 23,
   "id": "f53c3f66",
   "metadata": {},
   "outputs": [
    {
     "data": {
      "text/html": [
       "<div>\n",
       "<style scoped>\n",
       "    .dataframe tbody tr th:only-of-type {\n",
       "        vertical-align: middle;\n",
       "    }\n",
       "\n",
       "    .dataframe tbody tr th {\n",
       "        vertical-align: top;\n",
       "    }\n",
       "\n",
       "    .dataframe thead th {\n",
       "        text-align: right;\n",
       "    }\n",
       "</style>\n",
       "<table border=\"1\" class=\"dataframe\">\n",
       "  <thead>\n",
       "    <tr style=\"text-align: right;\">\n",
       "      <th></th>\n",
       "      <th>timestamp</th>\n",
       "      <th>blockId</th>\n",
       "      <th>txId</th>\n",
       "      <th>address</th>\n",
       "      <th>amount</th>\n",
       "      <th>scriptType</th>\n",
       "      <th>offset</th>\n",
       "      <th>spentId</th>\n",
       "      <th>spentBlock</th>\n",
       "      <th>spentTimestamp</th>\n",
       "      <th>type</th>\n",
       "    </tr>\n",
       "  </thead>\n",
       "  <tbody>\n",
       "    <tr>\n",
       "      <th>115</th>\n",
       "      <td>2011-06-11 21:15:28</td>\n",
       "      <td>130108</td>\n",
       "      <td>695960</td>\n",
       "      <td>764625</td>\n",
       "      <td>1</td>\n",
       "      <td>2</td>\n",
       "      <td>1</td>\n",
       "      <td>2239783</td>\n",
       "      <td>162928</td>\n",
       "      <td>2012-01-19 19:21:35</td>\n",
       "      <td>3</td>\n",
       "    </tr>\n",
       "    <tr>\n",
       "      <th>449</th>\n",
       "      <td>2011-07-14 17:10:16</td>\n",
       "      <td>136256</td>\n",
       "      <td>1034345</td>\n",
       "      <td>1281180</td>\n",
       "      <td>1</td>\n",
       "      <td>2</td>\n",
       "      <td>1</td>\n",
       "      <td>5591703</td>\n",
       "      <td>192185</td>\n",
       "      <td>2012-08-03 23:22:07</td>\n",
       "      <td>3</td>\n",
       "    </tr>\n",
       "    <tr>\n",
       "      <th>1095</th>\n",
       "      <td>2011-12-03 05:05:34</td>\n",
       "      <td>155802</td>\n",
       "      <td>1960987</td>\n",
       "      <td>2616722</td>\n",
       "      <td>1</td>\n",
       "      <td>2</td>\n",
       "      <td>1</td>\n",
       "      <td>2195725</td>\n",
       "      <td>161955</td>\n",
       "      <td>2012-01-13 05:55:05</td>\n",
       "      <td>3</td>\n",
       "    </tr>\n",
       "    <tr>\n",
       "      <th>1409</th>\n",
       "      <td>2012-01-14 05:09:59</td>\n",
       "      <td>162088</td>\n",
       "      <td>2202123</td>\n",
       "      <td>2847320</td>\n",
       "      <td>1</td>\n",
       "      <td>1</td>\n",
       "      <td>0</td>\n",
       "      <td>2210938</td>\n",
       "      <td>162284</td>\n",
       "      <td>2012-01-15 11:04:23</td>\n",
       "      <td>3</td>\n",
       "    </tr>\n",
       "    <tr>\n",
       "      <th>1410</th>\n",
       "      <td>2012-01-14 06:56:27</td>\n",
       "      <td>162100</td>\n",
       "      <td>2202710</td>\n",
       "      <td>2847876</td>\n",
       "      <td>1</td>\n",
       "      <td>1</td>\n",
       "      <td>0</td>\n",
       "      <td>2210938</td>\n",
       "      <td>162284</td>\n",
       "      <td>2012-01-15 11:04:23</td>\n",
       "      <td>3</td>\n",
       "    </tr>\n",
       "  </tbody>\n",
       "</table>\n",
       "</div>"
      ],
      "text/plain": [
       "               timestamp  blockId     txId  address  amount  scriptType  \\\n",
       "115  2011-06-11 21:15:28   130108   695960   764625       1           2   \n",
       "449  2011-07-14 17:10:16   136256  1034345  1281180       1           2   \n",
       "1095 2011-12-03 05:05:34   155802  1960987  2616722       1           2   \n",
       "1409 2012-01-14 05:09:59   162088  2202123  2847320       1           1   \n",
       "1410 2012-01-14 06:56:27   162100  2202710  2847876       1           1   \n",
       "\n",
       "      offset  spentId  spentBlock      spentTimestamp  type  \n",
       "115        1  2239783      162928 2012-01-19 19:21:35     3  \n",
       "449        1  5591703      192185 2012-08-03 23:22:07     3  \n",
       "1095       1  2195725      161955 2012-01-13 05:55:05     3  \n",
       "1409       0  2210938      162284 2012-01-15 11:04:23     3  \n",
       "1410       0  2210938      162284 2012-01-15 11:04:23     3  "
      ]
     },
     "execution_count": 23,
     "metadata": {},
     "output_type": "execute_result"
    }
   ],
   "source": [
    "type3 = (spentclass[spentclass.type == 3]).copy()\n",
    "type3['timestamp'] = type3['timestamp'].apply(lambda t : datetime.fromtimestamp(t))\n",
    "type3['spentTimestamp'] = type3['spentTimestamp'].apply(lambda t : datetime.fromtimestamp(t))\n",
    "type3.head()"
   ]
  },
  {
   "cell_type": "markdown",
   "id": "2f5dfec3",
   "metadata": {},
   "source": [
    "Let's count how many OD outputs have been spent for each year."
   ]
  },
  {
   "cell_type": "code",
   "execution_count": 24,
   "id": "217304f4",
   "metadata": {},
   "outputs": [
    {
     "data": {
      "text/plain": [
       "Year\n",
       "2009         0\n",
       "2010         0\n",
       "2011         0\n",
       "2012       130\n",
       "2013    148067\n",
       "2014       626\n",
       "2015         1\n",
       "2016         0\n",
       "2017       315\n",
       "dtype: int64"
      ]
     },
     "execution_count": 24,
     "metadata": {},
     "output_type": "execute_result"
    }
   ],
   "source": [
    "t1 = type3.groupby(type3.spentTimestamp.dt.year).size()\n",
    "t1 = t1.rename_axis('Year')\n",
    "t1 = t1.reindex([2009, 2010, 2011, 2012, 2013, 2014, 2015, 2016, 2017], fill_value=0)\n",
    "t1"
   ]
  },
  {
   "cell_type": "markdown",
   "id": "aec8422a",
   "metadata": {},
   "source": [
    "Most aggregations were performed during 2013.\n",
    "Taking this year as a reference, we can now discover how many Type 3 aggregations are performed on a monthly basis.\n",
    "From the results, we can see that the majority of aggregations happened in October (10)."
   ]
  },
  {
   "cell_type": "code",
   "execution_count": 30,
   "id": "129f0422",
   "metadata": {},
   "outputs": [
    {
     "data": {
      "text/plain": [
       "Month\n",
       "1        955\n",
       "2        187\n",
       "3       2439\n",
       "4        415\n",
       "5       1954\n",
       "6       2462\n",
       "7        343\n",
       "8          0\n",
       "9       4319\n",
       "10    134993\n",
       "11         0\n",
       "12         0\n",
       "dtype: int64"
      ]
     },
     "execution_count": 30,
     "metadata": {},
     "output_type": "execute_result"
    }
   ],
   "source": [
    "tmp = type3[type3.spentTimestamp.dt.year == 2013]\n",
    "tmp.groupby(tmp.spentTimestamp.dt.month).size().rename_axis('Month').reindex([1,2,3,4,5,6,7,8,9,10,11,12], fill_value=0)"
   ]
  },
  {
   "cell_type": "markdown",
   "id": "cf572fef",
   "metadata": {},
   "source": [
    "We now count the number of outputs aggregated by the various addresses in this period.\n",
    "\n",
    "We find out that address `3108769` has collected 134693 outputs out of a total of 134993."
   ]
  },
  {
   "cell_type": "code",
   "execution_count": 31,
   "id": "7ac054e8",
   "metadata": {},
   "outputs": [
    {
     "data": {
      "text/plain": [
       "3108769     134693\n",
       "9691207        200\n",
       "11145561       100\n",
       "Name: address, dtype: int64"
      ]
     },
     "execution_count": 31,
     "metadata": {},
     "output_type": "execute_result"
    }
   ],
   "source": [
    "tmp = type3[(type3.spentTimestamp.dt.year == 2013) & (type3.spentTimestamp.dt.month == 10)]\n",
    "tmp['address'].value_counts()"
   ]
  },
  {
   "cell_type": "markdown",
   "id": "2424b34a",
   "metadata": {},
   "source": [
    "We discover that this address identifier actually corresponds to `1JwSSubhmg6iPtRjtyqhUYYH7bZg3Lfy1T`, which is even mentioned on Reddit: https://www.reddit.com/r/Bitcoin/comments/399220/1jwssubhmg6iptrjtyqhuyyh7bzg3lfy1t_aka_correct/"
   ]
  }
 ],
 "metadata": {
  "kernelspec": {
   "display_name": "Python 3 (ipykernel)",
   "language": "python",
   "name": "python3"
  },
  "language_info": {
   "codemirror_mode": {
    "name": "ipython",
    "version": 3
   },
   "file_extension": ".py",
   "mimetype": "text/x-python",
   "name": "python",
   "nbconvert_exporter": "python",
   "pygments_lexer": "ipython3",
   "version": "3.8.2"
  }
 },
 "nbformat": 4,
 "nbformat_minor": 5
}
